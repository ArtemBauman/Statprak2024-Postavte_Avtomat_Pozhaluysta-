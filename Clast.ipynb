{
 "cells": [
  {
   "cell_type": "code",
   "execution_count": 62,
   "metadata": {},
   "outputs": [],
   "source": [
    "import pandas as pd\n",
    "import matplotlib.pyplot as plt\n",
    "data=pd.read_csv(\"C:/Users/втб/Downloads/Table - Лист1.csv\", decimal=\",\")\n",
    "names = data.Student[1:]\n",
    "data = data.iloc[1:]\n",
    "data.replace(',', '.', regex=True, inplace=True)\n",
    "columns_to_use = ['Unnamed: 10', 'Unnamed: 13', 'Unnamed: 24', 'Unnamed: 28', 'Pandas', 'kNN']\n",
    "data[columns_to_use] = data[columns_to_use].apply(pd.to_numeric, errors='coerce').fillna(-0.5)\n",
    "data['Total Score'] = data[columns_to_use].sum(axis=1)\n",
    "X = data[['Total Score']].values"
   ]
  },
  {
   "attachments": {},
   "cell_type": "markdown",
   "metadata": {},
   "source": [
    "В обработке данных я убрал последний столбец, отмечать на первой паре в понедельник - это против человечности!\n",
    "В остальном, только добавил -0.5 за пустые."
   ]
  },
  {
   "cell_type": "code",
   "execution_count": 58,
   "metadata": {},
   "outputs": [
    {
     "name": "stdout",
     "output_type": "stream",
     "text": [
      "Агаева Эмилия Назимовна -1\n",
      "Бауман Артём Георгиевич -1\n",
      "Вехов Иван Олегович 0\n",
      "Егоров Кирилл Сергеевич -1\n",
      "Килимчук Иван Вячеславович 0\n",
      "Кираев Булат Рустамович 0\n",
      "Козлов Глеб Денисович 0\n",
      "Корнийчук Павел Павлович -1\n",
      "Мирошниченко Никита Игоревич 0\n",
      "Родионова Мария Романовна 0\n",
      "Садыков Артур Маратович -1\n",
      "Сёмин Михаил Максимович -1\n",
      "Циберева Елизавета Кирилловна 0\n",
      "Яранцев Егор Евгеньевич -1\n",
      "Бакланов Владимир -1\n",
      "Виноградова Мария -1\n",
      "Гладков Иван 0\n",
      "Горностаев Геннадий -1\n",
      "Дручук Георгий -1\n",
      "Зайцев Даниил 0\n",
      "Караваева Александра 0\n",
      "Малышев Максим 0\n",
      "Микляева Дарья 0\n",
      "Морозова Мария -1\n",
      "Русанов Эрик -1\n",
      "Тарасюк Екатерина 0\n",
      "Тылык Даниил 0\n",
      "Шипицын Матвей -1\n",
      "Уваров Андрей 0\n"
     ]
    }
   ],
   "source": [
    "from sklearn.cluster import DBSCAN\n",
    "clustering = DBSCAN().fit(X)\n",
    "clustering.labels_\n",
    "for name, label in zip(names, clustering.labels_):\n",
    "    print(name, label)"
   ]
  },
  {
   "attachments": {},
   "cell_type": "markdown",
   "metadata": {},
   "source": [
    "DBSCAN крут и понял, что никого отчислять точно не нужно (здесь -1 - на зачет)"
   ]
  },
  {
   "cell_type": "code",
   "execution_count": 59,
   "metadata": {},
   "outputs": [
    {
     "name": "stdout",
     "output_type": "stream",
     "text": [
      "Агаева Эмилия Назимовна 0\n",
      "Бауман Артём Георгиевич 1\n",
      "Вехов Иван Олегович 0\n",
      "Егоров Кирилл Сергеевич 2\n",
      "Килимчук Иван Вячеславович 0\n",
      "Кираев Булат Рустамович 0\n",
      "Козлов Глеб Денисович 0\n",
      "Корнийчук Павел Павлович 0\n",
      "Мирошниченко Никита Игоревич 0\n",
      "Родионова Мария Романовна 0\n",
      "Садыков Артур Маратович 1\n",
      "Сёмин Михаил Максимович 0\n",
      "Циберева Елизавета Кирилловна 0\n",
      "Яранцев Егор Евгеньевич 0\n",
      "Бакланов Владимир 1\n",
      "Виноградова Мария 0\n",
      "Гладков Иван 0\n",
      "Горностаев Геннадий 2\n",
      "Дручук Георгий 0\n",
      "Зайцев Даниил 0\n",
      "Караваева Александра 0\n",
      "Малышев Максим 0\n",
      "Микляева Дарья 0\n",
      "Морозова Мария 0\n",
      "Русанов Эрик 0\n",
      "Тарасюк Екатерина 0\n",
      "Тылык Даниил 0\n",
      "Шипицын Матвей 0\n",
      "Уваров Андрей 0\n"
     ]
    }
   ],
   "source": [
    "from sklearn.cluster import KMeans\n",
    "kmeans = KMeans(n_clusters=3, random_state=0).fit(X)\n",
    "kmeans.labels_\n",
    "for name, label in zip(names, kmeans.labels_):\n",
    "    print(name, label)"
   ]
  },
  {
   "attachments": {},
   "cell_type": "markdown",
   "metadata": {},
   "source": [
    "Kmeans тоже нормально сделал, единственное - Бауману уж точно зачет нужно сразу ставить"
   ]
  },
  {
   "cell_type": "code",
   "execution_count": 60,
   "metadata": {},
   "outputs": [
    {
     "name": "stdout",
     "output_type": "stream",
     "text": [
      "Агаева Эмилия Назимовна 0\n",
      "Бауман Артём Георгиевич 0\n",
      "Вехов Иван Олегович 0\n",
      "Егоров Кирилл Сергеевич 1\n",
      "Килимчук Иван Вячеславович 0\n",
      "Кираев Булат Рустамович 0\n",
      "Козлов Глеб Денисович 0\n",
      "Корнийчук Павел Павлович 0\n",
      "Мирошниченко Никита Игоревич 0\n",
      "Родионова Мария Романовна 0\n",
      "Садыков Артур Маратович 2\n",
      "Сёмин Михаил Максимович 0\n",
      "Циберева Елизавета Кирилловна 0\n",
      "Яранцев Егор Евгеньевич 0\n",
      "Бакланов Владимир 2\n",
      "Виноградова Мария 0\n",
      "Гладков Иван 0\n",
      "Горностаев Геннадий 1\n",
      "Дручук Георгий 0\n",
      "Зайцев Даниил 0\n",
      "Караваева Александра 0\n",
      "Малышев Максим 0\n",
      "Микляева Дарья 0\n",
      "Морозова Мария 0\n",
      "Русанов Эрик 0\n",
      "Тарасюк Екатерина 0\n",
      "Тылык Даниил 0\n",
      "Шипицын Матвей 0\n",
      "Уваров Андрей 0\n"
     ]
    }
   ],
   "source": [
    "from sklearn.cluster import SpectralClustering\n",
    "sc = SpectralClustering(3).fit(X)\n",
    "sc.labels_\n",
    "for name, label in zip(names, sc.labels_):\n",
    "    print(name, label)"
   ]
  },
  {
   "attachments": {},
   "cell_type": "markdown",
   "metadata": {},
   "source": [
    "Этот самый молодец - сразу Бауману зачет поставил"
   ]
  },
  {
   "cell_type": "code",
   "execution_count": 61,
   "metadata": {},
   "outputs": [
    {
     "name": "stdout",
     "output_type": "stream",
     "text": [
      "Агаева Эмилия Назимовна 0\n",
      "Бауман Артём Георгиевич 1\n",
      "Вехов Иван Олегович 0\n",
      "Егоров Кирилл Сергеевич 2\n",
      "Килимчук Иван Вячеславович 0\n",
      "Кираев Булат Рустамович 0\n",
      "Козлов Глеб Денисович 0\n",
      "Корнийчук Павел Павлович 0\n",
      "Мирошниченко Никита Игоревич 0\n",
      "Родионова Мария Романовна 0\n",
      "Садыков Артур Маратович 1\n",
      "Сёмин Михаил Максимович 0\n",
      "Циберева Елизавета Кирилловна 0\n",
      "Яранцев Егор Евгеньевич 0\n",
      "Бакланов Владимир 1\n",
      "Виноградова Мария 0\n",
      "Гладков Иван 0\n",
      "Горностаев Геннадий 2\n",
      "Дручук Георгий 0\n",
      "Зайцев Даниил 0\n",
      "Караваева Александра 0\n",
      "Малышев Максим 0\n",
      "Микляева Дарья 0\n",
      "Морозова Мария 0\n",
      "Русанов Эрик 0\n",
      "Тарасюк Екатерина 0\n",
      "Тылык Даниил 0\n",
      "Шипицын Матвей 0\n",
      "Уваров Андрей 0\n"
     ]
    }
   ],
   "source": [
    "from sklearn.cluster import MeanShift\n",
    "MS = MeanShift().fit(X)\n",
    "MS.labels_\n",
    "for name, label in zip(names, MS.labels_):\n",
    "    print(name, label)"
   ]
  }
 ],
 "metadata": {
  "kernelspec": {
   "display_name": "Python 3",
   "language": "python",
   "name": "python3"
  },
  "language_info": {
   "codemirror_mode": {
    "name": "ipython",
    "version": 3
   },
   "file_extension": ".py",
   "mimetype": "text/x-python",
   "name": "python",
   "nbconvert_exporter": "python",
   "pygments_lexer": "ipython3",
   "version": "3.12.0"
  },
  "orig_nbformat": 4
 },
 "nbformat": 4,
 "nbformat_minor": 2
}
